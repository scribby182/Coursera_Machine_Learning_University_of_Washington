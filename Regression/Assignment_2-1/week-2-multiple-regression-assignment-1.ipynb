{
 "cells": [
  {
   "cell_type": "markdown",
   "metadata": {},
   "source": [
    "# Regression Week 2: Multiple Regression (Interpretation)"
   ]
  },
  {
   "cell_type": "markdown",
   "metadata": {},
   "source": [
    "The goal of this first notebook is to explore multiple regression and feature engineering with existing graphlab functions.\n",
    "\n",
    "In this notebook you will use data on house sales in King County to predict prices using multiple regression. You will:\n",
    "* Use SFrames to do some feature engineering\n",
    "* Use built-in graphlab functions to compute the regression weights (coefficients/parameters)\n",
    "* Given the regression weights, predictors and outcome write a function to compute the Residual Sum of Squares\n",
    "* Look at coefficients and interpret their meanings\n",
    "* Evaluate multiple models via RSS"
   ]
  },
  {
   "cell_type": "code",
   "execution_count": 33,
   "metadata": {
    "collapsed": true
   },
   "outputs": [],
   "source": [
    "import pandas as pd\n",
    "import numpy as np\n",
    "from math import log\n",
    "import pprint"
   ]
  },
  {
   "cell_type": "markdown",
   "metadata": {},
   "source": [
    "# Load house sales data (train and test databases)"
   ]
  },
  {
   "cell_type": "code",
   "execution_count": 3,
   "metadata": {
    "collapsed": true
   },
   "outputs": [],
   "source": [
    "# dnames_list = [\"id\",\"date\",\"price\",\"bedrooms\",\"bathrooms\",\"sqft_living\",\"sqft_lot\",\"floors\",\"waterfront\",\"view\",\"condition\",\"grade\",\"sqft_above\",\"sqft_basement\",\"yr_built\",\"yr_renovated\",\"zipcode\",\"lat\",\"long\",\"sqft_living15\",\"sqft_lot15\"]\n",
    "# Data types\n",
    "dtype_dict = {'bathrooms':float, 'waterfront':int, 'sqft_above':int, 'sqft_living15':float, 'grade':int, 'yr_renovated':int, \n",
    "              'price':float, 'bedrooms':float, 'zipcode':str, 'long':float, 'sqft_lot15':float, 'sqft_living':float, \n",
    "              'floors':str, 'condition':int, 'lat':float, 'date':str, 'sqft_basement':int, 'yr_built':int, 'id':str, \n",
    "              'sqft_lot':int, 'view':int}\n",
    "\n",
    "train_datafile = 'kc_house_train_data.csv'\n",
    "train_data = pd.read_csv(train_datafile, dtype=dtype_dict)\n",
    "\n",
    "test_datafile = 'kc_house_test_data.csv'\n",
    "test_data = pd.read_csv(test_datafile, dtype=dtype_dict)"
   ]
  },
  {
   "cell_type": "markdown",
   "metadata": {},
   "source": [
    "# Create some new features"
   ]
  },
  {
   "cell_type": "markdown",
   "metadata": {},
   "source": [
    "Although we often think of multiple regression as including multiple different features (e.g. # of bedrooms, squarefeet, and # of bathrooms) but we can also consider transformations of existing features e.g. the log of the squarefeet or even \"interaction\" features such as the product of bedrooms and bathrooms."
   ]
  },
  {
   "cell_type": "code",
   "execution_count": 18,
   "metadata": {
    "collapsed": false,
    "scrolled": false
   },
   "outputs": [
    {
     "name": "stdout",
     "output_type": "stream",
     "text": [
      "A sample of the new dataframes\n",
      "Train data:\n",
      "           id             date   price  bedrooms  bathrooms  sqft_living  \\\n",
      "0  7129300520  20141013T000000  221900         3       1.00         1180   \n",
      "1  6414100192  20141209T000000  538000         3       2.25         2570   \n",
      "2  5631500400  20150225T000000  180000         2       1.00          770   \n",
      "3  2487200875  20141209T000000  604000         4       3.00         1960   \n",
      "4  1954400510  20150218T000000  510000         3       2.00         1680   \n",
      "\n",
      "   sqft_lot floors  waterfront  view      ...        zipcode      lat  \\\n",
      "0      5650      1           0     0      ...          98178  47.5112   \n",
      "1      7242      2           0     0      ...          98125  47.7210   \n",
      "2     10000      1           0     0      ...          98028  47.7379   \n",
      "3      5000      1           0     0      ...          98136  47.5208   \n",
      "4      8080      1           0     0      ...          98074  47.6168   \n",
      "\n",
      "      long  sqft_living15  sqft_lot15  bedrooms_squared bedrooms_squared_2  \\\n",
      "0 -122.257           1340        5650                 9                  9   \n",
      "1 -122.319           1690        7639                 9                  9   \n",
      "2 -122.233           2720        8062                 4                  4   \n",
      "3 -122.393           1360        5000                16                 16   \n",
      "4 -122.045           1800        7503                 9                  9   \n",
      "\n",
      "   bed_bath_rooms  log_sqft_living  lat_plus_long  \n",
      "0            3.00         7.073270   -5808.576778  \n",
      "1            6.75         7.851661   -5837.184999  \n",
      "2            2.00         6.646391   -5835.146731  \n",
      "3           12.00         7.580700   -5816.213274  \n",
      "4            6.00         7.426549   -5811.392356  \n",
      "\n",
      "[5 rows x 26 columns]\n",
      "Test data:\n",
      "           id             date   price  bedrooms  bathrooms  sqft_living  \\\n",
      "0  0114101516  20140528T000000  310000         3        1.0         1430   \n",
      "1  9297300055  20150124T000000  650000         4        3.0         2950   \n",
      "2  1202000200  20141103T000000  233000         3        2.0         1710   \n",
      "3  8562750320  20141110T000000  580500         3        2.5         2320   \n",
      "4  7589200193  20141110T000000  535000         3        1.0         1090   \n",
      "\n",
      "   sqft_lot floors  waterfront  view      ...        yr_renovated  zipcode  \\\n",
      "0     19901    1.5           0     0      ...                   0    98028   \n",
      "1      5000      2           0     3      ...                   0    98126   \n",
      "2      4697    1.5           0     0      ...                   0    98002   \n",
      "3      3980      2           0     0      ...                   0    98027   \n",
      "4      3000    1.5           0     0      ...                   0    98117   \n",
      "\n",
      "       lat     long  sqft_living15  sqft_lot15 bedrooms_squared  \\\n",
      "0  47.7558 -122.229           1780       12697                9   \n",
      "1  47.5714 -122.375           2140        4000               16   \n",
      "2  47.3048 -122.218           1030        4705                9   \n",
      "3  47.5391 -122.070           2580        3980                9   \n",
      "4  47.6889 -122.375           1570        5080                9   \n",
      "\n",
      "   bed_bath_rooms  log_sqft_living  lat_plus_long  \n",
      "0             3.0         7.265430   -5837.143678  \n",
      "1            12.0         7.989560   -5821.550075  \n",
      "2             6.0         7.444249   -5781.498046  \n",
      "3             7.5         7.749322   -5803.097937  \n",
      "4             3.0         6.993933   -5835.929137  \n",
      "\n",
      "[5 rows x 25 columns]\n"
     ]
    }
   ],
   "source": [
    "for data in [train_data, test_data]:\n",
    "    # Using .apply:\n",
    "    # - Apply will run through axis=0 of the dataframe (or dataseries), \n",
    "    #   passing each to the function\n",
    "    #   - Default for DF is passing columns.  axis=1 passes rows.\n",
    "    # - If passing a dataframe with axis=1, can access the cols of that DF within a lambda\n",
    "    #   function just like normal \n",
    "    # - Can also define your own func instead of a lambda, ie:\n",
    "    #   def somefunc(x):  # where x is expected to be the row or col\n",
    "    #     return somethingElse\n",
    "    \n",
    "    # Squaring makes larger values more important\n",
    "    data['bedrooms_squared'] = data['bedrooms'].apply(lambda x: x**2)\n",
    "    # Interaction variable (sees combination of both)\n",
    "    data['bed_bath_rooms'] = data.apply(lambda x: x['bedrooms'] * x['bathrooms'], axis=1)\n",
    "    # Taking log brings larger values closer together and spreads out smaller ones\n",
    "    data['log_sqft_living'] = data['sqft_living'].apply(lambda x: log(x))\n",
    "    # This is not a useful variable, but will be an example later\n",
    "    data['lat_plus_long'] = data.apply(lambda x: x['lat'] * x['long'], axis=1)\n",
    "    \n",
    "print(\"A sample of the new dataframes\")\n",
    "print(\"Train data:\")\n",
    "print(train_data.head())\n",
    "print(\"Test data:\")\n",
    "print(test_data.head())\n"
   ]
  },
  {
   "cell_type": "markdown",
   "metadata": {},
   "source": [
    "**Quiz Question: What is the mean (arithmetic average) value of your 4 new features on TEST data? (round to 2 digits)**"
   ]
  },
  {
   "cell_type": "code",
   "execution_count": 25,
   "metadata": {
    "collapsed": false
   },
   "outputs": [
    {
     "name": "stdout",
     "output_type": "stream",
     "text": [
      "Mean of bedrooms_squared for TEST data is: 12.45\n",
      "Mean of bed_bath_rooms for TEST data is: 7.50\n",
      "Mean of log_sqft_living for TEST data is: 7.55\n",
      "Mean of lat_plus_long for TEST data is: -5812.99\n"
     ]
    }
   ],
   "source": [
    "for field in [\"bedrooms_squared\", \"bed_bath_rooms\", \"log_sqft_living\", \"lat_plus_long\"]:\n",
    "    print(\"Mean of {} for TEST data is: {:.2f}\".format(field,test_data[field].mean()))\n"
   ]
  },
  {
   "cell_type": "markdown",
   "metadata": {},
   "source": [
    "# Learning Multiple Models"
   ]
  },
  {
   "cell_type": "markdown",
   "metadata": {},
   "source": [
    "Now we will learn the weights for three (nested) models for predicting house prices. The first model will have the fewest features the second model will add one more feature and the third will add a few more:\n",
    "* Model 1: squarefeet, # bedrooms, # bathrooms, latitude & longitude\n",
    "* Model 2: add bedrooms\\*bathrooms\n",
    "* Model 3: Add log squarefeet, bedrooms squared, and the (nonsensical) latitude + longitude"
   ]
  },
  {
   "cell_type": "markdown",
   "metadata": {},
   "source": [
    "**Unlike the course example with graphlab, I will use sklearn**"
   ]
  },
  {
   "cell_type": "code",
   "execution_count": 58,
   "metadata": {
    "collapsed": true
   },
   "outputs": [],
   "source": [
    "from sklearn import linear_model\n",
    "# Notes on use: http://scikit-learn.org/stable/auto_examples/linear_model/plot_ols.html"
   ]
  },
  {
   "cell_type": "markdown",
   "metadata": {},
   "source": [
    "Define the features for each model"
   ]
  },
  {
   "cell_type": "code",
   "execution_count": 42,
   "metadata": {
    "collapsed": false
   },
   "outputs": [
    {
     "name": "stdout",
     "output_type": "stream",
     "text": [
      "{'m1': ['sqft_living', 'bedrooms', 'bathrooms', 'lat', 'long'],\n",
      " 'm2': ['sqft_living',\n",
      "        'bedrooms',\n",
      "        'bathrooms',\n",
      "        'lat',\n",
      "        'long',\n",
      "        'bed_bath_rooms'],\n",
      " 'm3': ['sqft_living',\n",
      "        'bedrooms',\n",
      "        'bathrooms',\n",
      "        'lat',\n",
      "        'long',\n",
      "        'bed_bath_rooms',\n",
      "        'bedrooms_squared',\n",
      "        'log_sqft_living',\n",
      "        'lat_plus_long'],\n",
      " 'x1': ['sqft_living']}\n"
     ]
    }
   ],
   "source": [
    "features = {}\n",
    "# x1 included as a check.  This is the same as assignment 1 which we did analytically.  \n",
    "# Should give results: intercept~=-47116.08, slope~=281.96\n",
    "features['x1'] = ['sqft_living'] # Included as a check - this is from assignment 1 and coef should be ~281.95\n",
    "features['m1'] = ['sqft_living', 'bedrooms', 'bathrooms', 'lat', 'long']\n",
    "features['m2'] = features['m1'] + ['bed_bath_rooms']\n",
    "features['m3'] = features['m2'] + ['bedrooms_squared', 'log_sqft_living', 'lat_plus_long']\n",
    "pprint.pprint(features)"
   ]
  },
  {
   "cell_type": "markdown",
   "metadata": {},
   "source": [
    "Create the linear regression object"
   ]
  },
  {
   "cell_type": "code",
   "execution_count": 43,
   "metadata": {
    "collapsed": true
   },
   "outputs": [],
   "source": [
    "regr = {}\n",
    "for m in features.keys():\n",
    "    regr[m] = linear_model.LinearRegression()"
   ]
  },
  {
   "cell_type": "markdown",
   "metadata": {},
   "source": [
    "Train the model using the training dataset"
   ]
  },
  {
   "cell_type": "code",
   "execution_count": 52,
   "metadata": {
    "collapsed": false
   },
   "outputs": [
    {
     "name": "stdout",
     "output_type": "stream",
     "text": [
      "Model m1:\n",
      "\tintercept=-69075726.79\n",
      "\tcoef(s)=[  3.12258646e+02  -5.95865332e+04   1.57067421e+04   6.58619264e+05\n",
      "  -3.09374351e+05]\n",
      "Model m2:\n",
      "\tintercept=-66867968.87\n",
      "\tcoef(s)=[  3.06610053e+02  -1.13446368e+05  -7.14613083e+04   6.54844630e+05\n",
      "  -2.94298969e+05   2.55796520e+04]\n",
      "Model m3:\n",
      "\tintercept=6610624555.28\n",
      "\tcoef(s)=[  5.31964492e+02   3.66338204e+04   6.75006294e+04  -1.39665060e+08\n",
      "   5.43198511e+07  -9.02007090e+03  -6.96138493e+03  -5.61309405e+05\n",
      "  -1.14822353e+06]\n",
      "Model x1:\n",
      "\tintercept=-47116.08\n",
      "\tcoef(s)=[ 281.95883963]\n"
     ]
    }
   ],
   "source": [
    "for m in sorted(features.keys()):\n",
    "    x = train_data[features[m]]\n",
    "    y = train_data['price']\n",
    "    regr[m].fit(x, y)\n",
    "    print(\"Model {}:\".format(m))\n",
    "    print(\"\\tintercept={:.2f}\".format(regr[m].intercept_))\n",
    "    print(\"\\tcoef(s)={}\".format(regr[m].coef_))\n"
   ]
  },
  {
   "cell_type": "markdown",
   "metadata": {},
   "source": [
    "**Quiz Question: What is the sign (positive or negative) for the coefficient/weight for 'bathrooms' in model 1?**\n",
    "\n",
    "**Quiz Question: What is the sign (positive or negative) for the coefficient/weight for 'bathrooms' in model 2?**\n",
    "\n",
    "Think about what this means."
   ]
  },
  {
   "cell_type": "code",
   "execution_count": 56,
   "metadata": {
    "collapsed": false
   },
   "outputs": [
    {
     "name": "stdout",
     "output_type": "stream",
     "text": [
      "Coefficient for bathrooms in model 1 = 15706.74208273467\n",
      "Coefficient for bathrooms in model 2 = -71461.30829275941\n"
     ]
    }
   ],
   "source": [
    "for m in ['1', '2']:\n",
    "    print(\"Coefficient for bathrooms in model {} = {}\".format(m, regr['m'+m].coef_[2]))"
   ]
  },
  {
   "cell_type": "markdown",
   "metadata": {},
   "source": [
    "For model 1, an increase in the number of bathrooms leads to an increase in the sale price of a house.  However, in model 2, the number of bathrooms strongly decreases the sale price of a house.  The difference here is the context of the model.  For model 2, the interaction between bedrooms and bathrooms is accounted for in a separate feature, thus changing the influence of the pure number of bathrooms.  Although number of bathrooms (and bedrooms) here is a negative driver, it would also be a positive driver in the interaction feature.  "
   ]
  },
  {
   "cell_type": "markdown",
   "metadata": {},
   "source": [
    "# Making predictions"
   ]
  },
  {
   "cell_type": "code",
   "execution_count": 76,
   "metadata": {
    "collapsed": false
   },
   "outputs": [
    {
     "data": {
      "text/plain": [
       "array([ 244657.18811044,  855689.66538486,  318101.67899464, ...,\n",
       "        528928.42823836,  356549.38348044,  317948.91207275])"
      ]
     },
     "execution_count": 76,
     "metadata": {},
     "output_type": "execute_result"
    }
   ],
   "source": [
    "# Sample of prediction using model\n",
    "thisdata = train_data[['sqft_living', 'bedrooms', 'bathrooms', 'lat', 'long']]\n",
    "regr['m1'].predict(thisdata)"
   ]
  },
  {
   "cell_type": "markdown",
   "metadata": {},
   "source": [
    "# Compute RSS"
   ]
  },
  {
   "cell_type": "markdown",
   "metadata": {},
   "source": [
    "Now that we can make predictions given the model, let's write a function to compute the RSS of the model. Complete the function below to calculate RSS given the model, data, and the outcome."
   ]
  },
  {
   "cell_type": "code",
   "execution_count": 103,
   "metadata": {
    "collapsed": false
   },
   "outputs": [],
   "source": [
    "def get_RSS(model, data, outcome):\n",
    "#     print(\"outcome={}\".format(outcome))\n",
    "\n",
    "    # First get the predictions\n",
    "    pred = model.predict(data)\n",
    "#     print(\"pred   ={}\".format(pred))\n",
    "\n",
    "    # Then compute the residuals/errors\n",
    "    res = pred - outcome\n",
    "#     print(\"res    ={}\".format(res))\n",
    "    \n",
    "    # Then square and add them up\n",
    "    RSS = (res * res).sum()\n",
    "#     print(\"RSS    ={}\".format(RSS))\n",
    "    \n",
    "    return RSS"
   ]
  },
  {
   "cell_type": "code",
   "execution_count": 102,
   "metadata": {
    "collapsed": false,
    "scrolled": true
   },
   "outputs": [
    {
     "name": "stdout",
     "output_type": "stream",
     "text": [
      "outcome=0    221900\n",
      "1    538000\n",
      "2    180000\n",
      "3    604000\n",
      "Name: price, dtype: float64\n",
      "pred   =[ 244657.18811044  855689.66538486  318101.67899464  508443.53992161]\n",
      "res    =0     22757.188110\n",
      "1    317689.665385\n",
      "2    138101.678995\n",
      "3    -95556.460078\n",
      "Name: price, dtype: float64\n",
      "RSS    =129647723906.889\n"
     ]
    },
    {
     "data": {
      "text/plain": [
       "129647723906.889"
      ]
     },
     "execution_count": 102,
     "metadata": {},
     "output_type": "execute_result"
    }
   ],
   "source": [
    "rows = range(0,4)\n",
    "# I'm a little sloppy here - I could also change these to np.arrays first, but they work as DF's as well\n",
    "get_RSS(regr['m1'], train_data[['sqft_living', 'bedrooms', 'bathrooms', 'lat', 'long']].iloc[rows], train_data['price'].iloc[rows])"
   ]
  },
  {
   "cell_type": "markdown",
   "metadata": {},
   "source": [
    "# Comparing multiple models\n",
    "Now that you've learned three models and extracted the model weights we want to evaluate which model is best.\n",
    "\n",
    "First use your functions from earlier to compute the RSS on TRAINING Data for each of the three models.\n",
    "**Quiz Question: Which model (1, 2 or 3) has lowest RSS on TRAINING Data?** Is this what you expected?"
   ]
  },
  {
   "cell_type": "code",
   "execution_count": 104,
   "metadata": {
    "collapsed": false
   },
   "outputs": [
    {
     "name": "stdout",
     "output_type": "stream",
     "text": [
      "RSS for model m1: 967879963049549.6\n",
      "RSS for model m2: 958419635074068.1\n",
      "RSS for model m3: 895927073789814.2\n"
     ]
    }
   ],
   "source": [
    "output = 'price'\n",
    "for m in ['m1', 'm2', 'm3']:\n",
    "    RSS = get_RSS(regr[m], train_data[features[m]], train_data[output])\n",
    "    print(\"RSS for model {}: {}\".format(m, RSS))"
   ]
  },
  {
   "cell_type": "markdown",
   "metadata": {},
   "source": [
    "Model 3 has the lowest RSS on the training data"
   ]
  },
  {
   "cell_type": "markdown",
   "metadata": {},
   "source": [
    "**Quiz Question: Which model (1, 2 or 3) has lowest RSS on TESTING Data?** Is this what you expected? Think about the features that were added to each model from the previous."
   ]
  },
  {
   "cell_type": "code",
   "execution_count": 105,
   "metadata": {
    "collapsed": false
   },
   "outputs": [
    {
     "name": "stdout",
     "output_type": "stream",
     "text": [
      "RSS for model m1: 225500469795489.9\n",
      "RSS for model m2: 223377462976466.47\n",
      "RSS for model m3: 258804831454246.56\n"
     ]
    }
   ],
   "source": [
    "output = 'price'\n",
    "for m in ['m1', 'm2', 'm3']:\n",
    "    RSS = get_RSS(regr[m], test_data[features[m]], test_data[output])\n",
    "    print(\"RSS for model {}: {}\".format(m, RSS))"
   ]
  },
  {
   "cell_type": "markdown",
   "metadata": {},
   "source": [
    "Model 2(!!) has the lowest RSS on the TEST data (different from the training data!).  This is because model 3, although it is well trained to its dataset (hence the low training RSS), includes a nonsense parameter of lat+long which actually hurts the prediction of house prices on the test data. "
   ]
  },
  {
   "cell_type": "code",
   "execution_count": null,
   "metadata": {
    "collapsed": true
   },
   "outputs": [],
   "source": []
  }
 ],
 "metadata": {
  "kernelspec": {
   "display_name": "Python 2",
   "language": "python",
   "name": "python2"
  },
  "language_info": {
   "codemirror_mode": {
    "name": "ipython",
    "version": 2
   },
   "file_extension": ".py",
   "mimetype": "text/x-python",
   "name": "python",
   "nbconvert_exporter": "python",
   "pygments_lexer": "ipython2",
   "version": "2.7.11"
  }
 },
 "nbformat": 4,
 "nbformat_minor": 0
}
