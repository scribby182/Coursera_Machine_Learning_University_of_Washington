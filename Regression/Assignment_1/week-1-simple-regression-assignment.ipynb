{
 "cells": [
  {
   "cell_type": "markdown",
   "metadata": {},
   "source": [
    "# NOTE: Modified from sample to use Pandas instead of SFrame/SArray and graphlab create"
   ]
  },
  {
   "cell_type": "markdown",
   "metadata": {},
   "source": [
    "# Regression Week 1: Simple Linear Regression"
   ]
  },
  {
   "cell_type": "markdown",
   "metadata": {},
   "source": [
    "In this notebook we will use data on house sales in King County to predict house prices using simple (one input) linear regression. You will:\n",
    "* Use graphlab SArray and SFrame functions to compute important summary statistics\n",
    "* Write a function to compute the Simple Linear Regression weights using the closed form solution\n",
    "* Write a function to make predictions of the output given the input feature\n",
    "* Turn the regression around to predict the input given the output\n",
    "* Compare two different models for predicting house prices\n",
    "\n",
    "In this notebook you will be provided with some already complete code as well as some code that you should complete yourself in order to answer quiz questions. The code we provide to complte is optional and is there to assist you with solving the problems but feel free to ignore the helper code and write your own."
   ]
  },
  {
   "cell_type": "code",
   "execution_count": 1,
   "metadata": {
    "collapsed": true
   },
   "outputs": [],
   "source": [
    "import pandas as pd\n",
    "import numpy as np"
   ]
  },
  {
   "cell_type": "markdown",
   "metadata": {},
   "source": [
    "## Load house sales data"
   ]
  },
  {
   "cell_type": "code",
   "execution_count": 2,
   "metadata": {
    "collapsed": false
   },
   "outputs": [],
   "source": [
    "# dnames_list = [\"id\",\"date\",\"price\",\"bedrooms\",\"bathrooms\",\"sqft_living\",\"sqft_lot\",\"floors\",\"waterfront\",\"view\",\"condition\",\"grade\",\"sqft_above\",\"sqft_basement\",\"yr_built\",\"yr_renovated\",\"zipcode\",\"lat\",\"long\",\"sqft_living15\",\"sqft_lot15\"]\n",
    "# Data types\n",
    "dtype_dict = {'bathrooms':float, 'waterfront':int, 'sqft_above':int, 'sqft_living15':float, 'grade':int, 'yr_renovated':int, \n",
    "              'price':float, 'bedrooms':float, 'zipcode':str, 'long':float, 'sqft_lot15':float, 'sqft_living':float, \n",
    "              'floors':str, 'condition':int, 'lat':float, 'date':str, 'sqft_basement':int, 'yr_built':int, 'id':str, \n",
    "              'sqft_lot':int, 'view':int}\n",
    "\n",
    "train_datafile = 'kc_house_train_data.csv'\n",
    "train_data = pd.read_csv(train_datafile, dtype=dtype_dict)\n",
    "\n",
    "test_datafile = 'kc_house_test_data.csv'\n",
    "test_data = pd.read_csv(test_datafile, dtype=dtype_dict)"
   ]
  },
  {
   "cell_type": "code",
   "execution_count": 3,
   "metadata": {
    "collapsed": false
   },
   "outputs": [
    {
     "data": {
      "text/html": [
       "<div>\n",
       "<table border=\"1\" class=\"dataframe\">\n",
       "  <thead>\n",
       "    <tr style=\"text-align: right;\">\n",
       "      <th></th>\n",
       "      <th>price</th>\n",
       "      <th>bedrooms</th>\n",
       "      <th>bathrooms</th>\n",
       "      <th>sqft_living</th>\n",
       "      <th>sqft_lot</th>\n",
       "      <th>waterfront</th>\n",
       "      <th>view</th>\n",
       "      <th>condition</th>\n",
       "      <th>grade</th>\n",
       "      <th>sqft_above</th>\n",
       "      <th>sqft_basement</th>\n",
       "      <th>yr_built</th>\n",
       "      <th>yr_renovated</th>\n",
       "      <th>lat</th>\n",
       "      <th>long</th>\n",
       "      <th>sqft_living15</th>\n",
       "      <th>sqft_lot15</th>\n",
       "    </tr>\n",
       "  </thead>\n",
       "  <tbody>\n",
       "    <tr>\n",
       "      <th>count</th>\n",
       "      <td>17384.000000</td>\n",
       "      <td>17384.000000</td>\n",
       "      <td>17384.000000</td>\n",
       "      <td>17384.000000</td>\n",
       "      <td>17384.000000</td>\n",
       "      <td>17384.000000</td>\n",
       "      <td>17384.000000</td>\n",
       "      <td>17384.000000</td>\n",
       "      <td>17384.000000</td>\n",
       "      <td>17384.000000</td>\n",
       "      <td>17384.000000</td>\n",
       "      <td>17384.000000</td>\n",
       "      <td>17384.000000</td>\n",
       "      <td>17384.000000</td>\n",
       "      <td>17384.000000</td>\n",
       "      <td>17384.000000</td>\n",
       "      <td>17384.000000</td>\n",
       "    </tr>\n",
       "    <tr>\n",
       "      <th>mean</th>\n",
       "      <td>539366.627934</td>\n",
       "      <td>3.369363</td>\n",
       "      <td>2.115048</td>\n",
       "      <td>2080.029510</td>\n",
       "      <td>15091.911240</td>\n",
       "      <td>0.007651</td>\n",
       "      <td>0.236079</td>\n",
       "      <td>3.410780</td>\n",
       "      <td>7.655028</td>\n",
       "      <td>1787.844512</td>\n",
       "      <td>292.184998</td>\n",
       "      <td>1971.152727</td>\n",
       "      <td>83.107973</td>\n",
       "      <td>47.559313</td>\n",
       "      <td>-122.213281</td>\n",
       "      <td>1985.994995</td>\n",
       "      <td>12776.380867</td>\n",
       "    </tr>\n",
       "    <tr>\n",
       "      <th>std</th>\n",
       "      <td>369691.178858</td>\n",
       "      <td>0.906468</td>\n",
       "      <td>0.771783</td>\n",
       "      <td>921.630888</td>\n",
       "      <td>41459.272327</td>\n",
       "      <td>0.087136</td>\n",
       "      <td>0.768008</td>\n",
       "      <td>0.649792</td>\n",
       "      <td>1.169818</td>\n",
       "      <td>827.107595</td>\n",
       "      <td>444.404136</td>\n",
       "      <td>29.328722</td>\n",
       "      <td>398.692283</td>\n",
       "      <td>0.138703</td>\n",
       "      <td>0.140906</td>\n",
       "      <td>686.512835</td>\n",
       "      <td>27175.730523</td>\n",
       "    </tr>\n",
       "    <tr>\n",
       "      <th>min</th>\n",
       "      <td>75000.000000</td>\n",
       "      <td>0.000000</td>\n",
       "      <td>0.000000</td>\n",
       "      <td>290.000000</td>\n",
       "      <td>520.000000</td>\n",
       "      <td>0.000000</td>\n",
       "      <td>0.000000</td>\n",
       "      <td>1.000000</td>\n",
       "      <td>1.000000</td>\n",
       "      <td>290.000000</td>\n",
       "      <td>0.000000</td>\n",
       "      <td>1900.000000</td>\n",
       "      <td>0.000000</td>\n",
       "      <td>47.159300</td>\n",
       "      <td>-122.519000</td>\n",
       "      <td>399.000000</td>\n",
       "      <td>651.000000</td>\n",
       "    </tr>\n",
       "    <tr>\n",
       "      <th>25%</th>\n",
       "      <td>320000.000000</td>\n",
       "      <td>3.000000</td>\n",
       "      <td>1.750000</td>\n",
       "      <td>1420.000000</td>\n",
       "      <td>5049.500000</td>\n",
       "      <td>0.000000</td>\n",
       "      <td>0.000000</td>\n",
       "      <td>3.000000</td>\n",
       "      <td>7.000000</td>\n",
       "      <td>1200.000000</td>\n",
       "      <td>0.000000</td>\n",
       "      <td>1952.000000</td>\n",
       "      <td>0.000000</td>\n",
       "      <td>47.468650</td>\n",
       "      <td>-122.328000</td>\n",
       "      <td>1490.000000</td>\n",
       "      <td>5100.000000</td>\n",
       "    </tr>\n",
       "    <tr>\n",
       "      <th>50%</th>\n",
       "      <td>450000.000000</td>\n",
       "      <td>3.000000</td>\n",
       "      <td>2.250000</td>\n",
       "      <td>1910.000000</td>\n",
       "      <td>7616.000000</td>\n",
       "      <td>0.000000</td>\n",
       "      <td>0.000000</td>\n",
       "      <td>3.000000</td>\n",
       "      <td>7.000000</td>\n",
       "      <td>1560.000000</td>\n",
       "      <td>0.000000</td>\n",
       "      <td>1975.000000</td>\n",
       "      <td>0.000000</td>\n",
       "      <td>47.571400</td>\n",
       "      <td>-122.229000</td>\n",
       "      <td>1840.000000</td>\n",
       "      <td>7620.000000</td>\n",
       "    </tr>\n",
       "    <tr>\n",
       "      <th>75%</th>\n",
       "      <td>640000.000000</td>\n",
       "      <td>4.000000</td>\n",
       "      <td>2.500000</td>\n",
       "      <td>2550.000000</td>\n",
       "      <td>10665.250000</td>\n",
       "      <td>0.000000</td>\n",
       "      <td>0.000000</td>\n",
       "      <td>4.000000</td>\n",
       "      <td>8.000000</td>\n",
       "      <td>2210.000000</td>\n",
       "      <td>560.000000</td>\n",
       "      <td>1997.000000</td>\n",
       "      <td>0.000000</td>\n",
       "      <td>47.677625</td>\n",
       "      <td>-122.125000</td>\n",
       "      <td>2360.000000</td>\n",
       "      <td>10065.250000</td>\n",
       "    </tr>\n",
       "    <tr>\n",
       "      <th>max</th>\n",
       "      <td>7700000.000000</td>\n",
       "      <td>10.000000</td>\n",
       "      <td>8.000000</td>\n",
       "      <td>13540.000000</td>\n",
       "      <td>1651359.000000</td>\n",
       "      <td>1.000000</td>\n",
       "      <td>4.000000</td>\n",
       "      <td>5.000000</td>\n",
       "      <td>13.000000</td>\n",
       "      <td>9410.000000</td>\n",
       "      <td>4820.000000</td>\n",
       "      <td>2015.000000</td>\n",
       "      <td>2015.000000</td>\n",
       "      <td>47.777600</td>\n",
       "      <td>-121.315000</td>\n",
       "      <td>6210.000000</td>\n",
       "      <td>871200.000000</td>\n",
       "    </tr>\n",
       "  </tbody>\n",
       "</table>\n",
       "</div>"
      ],
      "text/plain": [
       "                price      bedrooms     bathrooms   sqft_living  \\\n",
       "count    17384.000000  17384.000000  17384.000000  17384.000000   \n",
       "mean    539366.627934      3.369363      2.115048   2080.029510   \n",
       "std     369691.178858      0.906468      0.771783    921.630888   \n",
       "min      75000.000000      0.000000      0.000000    290.000000   \n",
       "25%     320000.000000      3.000000      1.750000   1420.000000   \n",
       "50%     450000.000000      3.000000      2.250000   1910.000000   \n",
       "75%     640000.000000      4.000000      2.500000   2550.000000   \n",
       "max    7700000.000000     10.000000      8.000000  13540.000000   \n",
       "\n",
       "             sqft_lot    waterfront          view     condition         grade  \\\n",
       "count    17384.000000  17384.000000  17384.000000  17384.000000  17384.000000   \n",
       "mean     15091.911240      0.007651      0.236079      3.410780      7.655028   \n",
       "std      41459.272327      0.087136      0.768008      0.649792      1.169818   \n",
       "min        520.000000      0.000000      0.000000      1.000000      1.000000   \n",
       "25%       5049.500000      0.000000      0.000000      3.000000      7.000000   \n",
       "50%       7616.000000      0.000000      0.000000      3.000000      7.000000   \n",
       "75%      10665.250000      0.000000      0.000000      4.000000      8.000000   \n",
       "max    1651359.000000      1.000000      4.000000      5.000000     13.000000   \n",
       "\n",
       "         sqft_above  sqft_basement      yr_built  yr_renovated           lat  \\\n",
       "count  17384.000000   17384.000000  17384.000000  17384.000000  17384.000000   \n",
       "mean    1787.844512     292.184998   1971.152727     83.107973     47.559313   \n",
       "std      827.107595     444.404136     29.328722    398.692283      0.138703   \n",
       "min      290.000000       0.000000   1900.000000      0.000000     47.159300   \n",
       "25%     1200.000000       0.000000   1952.000000      0.000000     47.468650   \n",
       "50%     1560.000000       0.000000   1975.000000      0.000000     47.571400   \n",
       "75%     2210.000000     560.000000   1997.000000      0.000000     47.677625   \n",
       "max     9410.000000    4820.000000   2015.000000   2015.000000     47.777600   \n",
       "\n",
       "               long  sqft_living15     sqft_lot15  \n",
       "count  17384.000000   17384.000000   17384.000000  \n",
       "mean    -122.213281    1985.994995   12776.380867  \n",
       "std        0.140906     686.512835   27175.730523  \n",
       "min     -122.519000     399.000000     651.000000  \n",
       "25%     -122.328000    1490.000000    5100.000000  \n",
       "50%     -122.229000    1840.000000    7620.000000  \n",
       "75%     -122.125000    2360.000000   10065.250000  \n",
       "max     -121.315000    6210.000000  871200.000000  "
      ]
     },
     "execution_count": 3,
     "metadata": {},
     "output_type": "execute_result"
    }
   ],
   "source": [
    "train_data.describe()"
   ]
  },
  {
   "cell_type": "code",
   "execution_count": 4,
   "metadata": {
    "collapsed": false
   },
   "outputs": [
    {
     "data": {
      "text/html": [
       "<div>\n",
       "<table border=\"1\" class=\"dataframe\">\n",
       "  <thead>\n",
       "    <tr style=\"text-align: right;\">\n",
       "      <th></th>\n",
       "      <th>price</th>\n",
       "      <th>bedrooms</th>\n",
       "      <th>bathrooms</th>\n",
       "      <th>sqft_living</th>\n",
       "      <th>sqft_lot</th>\n",
       "      <th>waterfront</th>\n",
       "      <th>view</th>\n",
       "      <th>condition</th>\n",
       "      <th>grade</th>\n",
       "      <th>sqft_above</th>\n",
       "      <th>sqft_basement</th>\n",
       "      <th>yr_built</th>\n",
       "      <th>yr_renovated</th>\n",
       "      <th>lat</th>\n",
       "      <th>long</th>\n",
       "      <th>sqft_living15</th>\n",
       "      <th>sqft_lot15</th>\n",
       "    </tr>\n",
       "  </thead>\n",
       "  <tbody>\n",
       "    <tr>\n",
       "      <th>count</th>\n",
       "      <td>4229.000000</td>\n",
       "      <td>4229.000000</td>\n",
       "      <td>4229.000000</td>\n",
       "      <td>4229.000000</td>\n",
       "      <td>4229.000000</td>\n",
       "      <td>4229.000000</td>\n",
       "      <td>4229.000000</td>\n",
       "      <td>4229.000000</td>\n",
       "      <td>4229.000000</td>\n",
       "      <td>4229.000000</td>\n",
       "      <td>4229.000000</td>\n",
       "      <td>4229.000000</td>\n",
       "      <td>4229.000000</td>\n",
       "      <td>4229.000000</td>\n",
       "      <td>4229.000000</td>\n",
       "      <td>4229.000000</td>\n",
       "      <td>4229.000000</td>\n",
       "    </tr>\n",
       "    <tr>\n",
       "      <th>mean</th>\n",
       "      <td>543054.043036</td>\n",
       "      <td>3.376921</td>\n",
       "      <td>2.113561</td>\n",
       "      <td>2079.366280</td>\n",
       "      <td>15168.859068</td>\n",
       "      <td>0.007094</td>\n",
       "      <td>0.227004</td>\n",
       "      <td>3.403878</td>\n",
       "      <td>7.664460</td>\n",
       "      <td>1790.635848</td>\n",
       "      <td>288.730433</td>\n",
       "      <td>1970.398439</td>\n",
       "      <td>89.722629</td>\n",
       "      <td>47.563092</td>\n",
       "      <td>-122.216426</td>\n",
       "      <td>1988.844171</td>\n",
       "      <td>12735.877749</td>\n",
       "    </tr>\n",
       "    <tr>\n",
       "      <th>std</th>\n",
       "      <td>356421.245803</td>\n",
       "      <td>1.021434</td>\n",
       "      <td>0.763560</td>\n",
       "      <td>905.317454</td>\n",
       "      <td>41265.627014</td>\n",
       "      <td>0.083936</td>\n",
       "      <td>0.759375</td>\n",
       "      <td>0.654686</td>\n",
       "      <td>1.198476</td>\n",
       "      <td>832.215530</td>\n",
       "      <td>435.016314</td>\n",
       "      <td>29.552143</td>\n",
       "      <td>413.736867</td>\n",
       "      <td>0.137965</td>\n",
       "      <td>0.140497</td>\n",
       "      <td>680.837632</td>\n",
       "      <td>27829.200218</td>\n",
       "    </tr>\n",
       "    <tr>\n",
       "      <th>min</th>\n",
       "      <td>85000.000000</td>\n",
       "      <td>0.000000</td>\n",
       "      <td>0.000000</td>\n",
       "      <td>370.000000</td>\n",
       "      <td>600.000000</td>\n",
       "      <td>0.000000</td>\n",
       "      <td>0.000000</td>\n",
       "      <td>1.000000</td>\n",
       "      <td>4.000000</td>\n",
       "      <td>370.000000</td>\n",
       "      <td>0.000000</td>\n",
       "      <td>1900.000000</td>\n",
       "      <td>0.000000</td>\n",
       "      <td>47.155900</td>\n",
       "      <td>-122.514000</td>\n",
       "      <td>700.000000</td>\n",
       "      <td>660.000000</td>\n",
       "    </tr>\n",
       "    <tr>\n",
       "      <th>25%</th>\n",
       "      <td>325000.000000</td>\n",
       "      <td>3.000000</td>\n",
       "      <td>1.750000</td>\n",
       "      <td>1430.000000</td>\n",
       "      <td>5027.000000</td>\n",
       "      <td>0.000000</td>\n",
       "      <td>0.000000</td>\n",
       "      <td>3.000000</td>\n",
       "      <td>7.000000</td>\n",
       "      <td>1180.000000</td>\n",
       "      <td>0.000000</td>\n",
       "      <td>1951.000000</td>\n",
       "      <td>0.000000</td>\n",
       "      <td>47.476600</td>\n",
       "      <td>-122.330000</td>\n",
       "      <td>1490.000000</td>\n",
       "      <td>5105.000000</td>\n",
       "    </tr>\n",
       "    <tr>\n",
       "      <th>50%</th>\n",
       "      <td>453000.000000</td>\n",
       "      <td>3.000000</td>\n",
       "      <td>2.250000</td>\n",
       "      <td>1920.000000</td>\n",
       "      <td>7633.000000</td>\n",
       "      <td>0.000000</td>\n",
       "      <td>0.000000</td>\n",
       "      <td>3.000000</td>\n",
       "      <td>7.000000</td>\n",
       "      <td>1570.000000</td>\n",
       "      <td>0.000000</td>\n",
       "      <td>1974.000000</td>\n",
       "      <td>0.000000</td>\n",
       "      <td>47.573400</td>\n",
       "      <td>-122.239000</td>\n",
       "      <td>1840.000000</td>\n",
       "      <td>7611.000000</td>\n",
       "    </tr>\n",
       "    <tr>\n",
       "      <th>75%</th>\n",
       "      <td>650000.000000</td>\n",
       "      <td>4.000000</td>\n",
       "      <td>2.500000</td>\n",
       "      <td>2550.000000</td>\n",
       "      <td>10760.000000</td>\n",
       "      <td>0.000000</td>\n",
       "      <td>0.000000</td>\n",
       "      <td>4.000000</td>\n",
       "      <td>8.000000</td>\n",
       "      <td>2230.000000</td>\n",
       "      <td>560.000000</td>\n",
       "      <td>1996.000000</td>\n",
       "      <td>0.000000</td>\n",
       "      <td>47.679500</td>\n",
       "      <td>-122.125000</td>\n",
       "      <td>2370.000000</td>\n",
       "      <td>10159.000000</td>\n",
       "    </tr>\n",
       "    <tr>\n",
       "      <th>max</th>\n",
       "      <td>6885000.000000</td>\n",
       "      <td>33.000000</td>\n",
       "      <td>7.750000</td>\n",
       "      <td>9890.000000</td>\n",
       "      <td>1024068.000000</td>\n",
       "      <td>1.000000</td>\n",
       "      <td>4.000000</td>\n",
       "      <td>5.000000</td>\n",
       "      <td>13.000000</td>\n",
       "      <td>8860.000000</td>\n",
       "      <td>2610.000000</td>\n",
       "      <td>2015.000000</td>\n",
       "      <td>2015.000000</td>\n",
       "      <td>47.777600</td>\n",
       "      <td>-121.315000</td>\n",
       "      <td>5030.000000</td>\n",
       "      <td>858132.000000</td>\n",
       "    </tr>\n",
       "  </tbody>\n",
       "</table>\n",
       "</div>"
      ],
      "text/plain": [
       "                price     bedrooms    bathrooms  sqft_living        sqft_lot  \\\n",
       "count     4229.000000  4229.000000  4229.000000  4229.000000     4229.000000   \n",
       "mean    543054.043036     3.376921     2.113561  2079.366280    15168.859068   \n",
       "std     356421.245803     1.021434     0.763560   905.317454    41265.627014   \n",
       "min      85000.000000     0.000000     0.000000   370.000000      600.000000   \n",
       "25%     325000.000000     3.000000     1.750000  1430.000000     5027.000000   \n",
       "50%     453000.000000     3.000000     2.250000  1920.000000     7633.000000   \n",
       "75%     650000.000000     4.000000     2.500000  2550.000000    10760.000000   \n",
       "max    6885000.000000    33.000000     7.750000  9890.000000  1024068.000000   \n",
       "\n",
       "        waterfront         view    condition        grade   sqft_above  \\\n",
       "count  4229.000000  4229.000000  4229.000000  4229.000000  4229.000000   \n",
       "mean      0.007094     0.227004     3.403878     7.664460  1790.635848   \n",
       "std       0.083936     0.759375     0.654686     1.198476   832.215530   \n",
       "min       0.000000     0.000000     1.000000     4.000000   370.000000   \n",
       "25%       0.000000     0.000000     3.000000     7.000000  1180.000000   \n",
       "50%       0.000000     0.000000     3.000000     7.000000  1570.000000   \n",
       "75%       0.000000     0.000000     4.000000     8.000000  2230.000000   \n",
       "max       1.000000     4.000000     5.000000    13.000000  8860.000000   \n",
       "\n",
       "       sqft_basement     yr_built  yr_renovated          lat         long  \\\n",
       "count    4229.000000  4229.000000   4229.000000  4229.000000  4229.000000   \n",
       "mean      288.730433  1970.398439     89.722629    47.563092  -122.216426   \n",
       "std       435.016314    29.552143    413.736867     0.137965     0.140497   \n",
       "min         0.000000  1900.000000      0.000000    47.155900  -122.514000   \n",
       "25%         0.000000  1951.000000      0.000000    47.476600  -122.330000   \n",
       "50%         0.000000  1974.000000      0.000000    47.573400  -122.239000   \n",
       "75%       560.000000  1996.000000      0.000000    47.679500  -122.125000   \n",
       "max      2610.000000  2015.000000   2015.000000    47.777600  -121.315000   \n",
       "\n",
       "       sqft_living15     sqft_lot15  \n",
       "count    4229.000000    4229.000000  \n",
       "mean     1988.844171   12735.877749  \n",
       "std       680.837632   27829.200218  \n",
       "min       700.000000     660.000000  \n",
       "25%      1490.000000    5105.000000  \n",
       "50%      1840.000000    7611.000000  \n",
       "75%      2370.000000   10159.000000  \n",
       "max      5030.000000  858132.000000  "
      ]
     },
     "execution_count": 4,
     "metadata": {},
     "output_type": "execute_result"
    }
   ],
   "source": [
    "test_data.describe()"
   ]
  },
  {
   "cell_type": "markdown",
   "metadata": {},
   "source": [
    "## Compute some numbers from the data"
   ]
  },
  {
   "cell_type": "code",
   "execution_count": 5,
   "metadata": {
    "collapsed": false,
    "scrolled": true
   },
   "outputs": [
    {
     "name": "stdout",
     "output_type": "stream",
     "text": [
      "average price via method 1: 543054.043036\n",
      "average price via method 2: 543054.0430361788\n"
     ]
    }
   ],
   "source": [
    "# Let's compute the mean of the House Prices in King County in 2 different ways.\n",
    "prices = test_data['price'] # prices as a single data series\n",
    "\n",
    "# recall that the arithmetic average (the mean) is the sum of the prices divided by the total number of houses:\n",
    "sum_prices = prices.sum()\n",
    "num_houses = prices.count()\n",
    "avg_price_1 = sum_prices/num_houses\n",
    "avg_price_2 = prices.mean()\n",
    "print(\"average price via method 1: {}\".format(str(avg_price_1)))\n",
    "print(\"average price via method 2: {}\".format(str(avg_price_2)))"
   ]
  },
  {
   "cell_type": "markdown",
   "metadata": {},
   "source": [
    "As we see we get the same answer both ways"
   ]
  },
  {
   "cell_type": "code",
   "execution_count": 6,
   "metadata": {
    "collapsed": false
   },
   "outputs": [
    {
     "name": "stdout",
     "output_type": "stream",
     "text": [
      "the sum of price squared is: 1784273286136298.0\n"
     ]
    }
   ],
   "source": [
    "# if we want to multiply every price by 0.5 it's a simple as:\n",
    "half_prices = 0.5*prices\n",
    "\n",
    "# Let's compute the sum of squares of price. We can multiply two SArrays of the same length elementwise also with *\n",
    "prices_squared = prices*prices\n",
    "sum_prices_squared = prices_squared.sum()\n",
    "print(\"the sum of price squared is: {}\".format(str(sum_prices_squared)))"
   ]
  },
  {
   "cell_type": "markdown",
   "metadata": {},
   "source": [
    "# Build a generic simple linear regression function"
   ]
  },
  {
   "cell_type": "markdown",
   "metadata": {},
   "source": [
    "Complete the following function to compute the simple linear regression slope and intercept using the closed form solution"
   ]
  },
  {
   "cell_type": "code",
   "execution_count": 7,
   "metadata": {
    "collapsed": true
   },
   "outputs": [],
   "source": [
    "def simple_linear_regression(input_feature, output):\n",
    "    N = len(input_feature)\n",
    "    \n",
    "    # compute the sum of input_feature and output\n",
    "    sum_input_feature = input_feature.sum()\n",
    "    sum_output = output.sum()\n",
    "    \n",
    "    # compute the product of the output and the input_feature and its sum\n",
    "    prod_input_output = input_feature * output\n",
    "    sum_prod_input_output = prod_input_output.sum()\n",
    "    \n",
    "    # compute the squared value of the input_feature and its sum\n",
    "    square_input_feature = input_feature * input_feature\n",
    "    sum_square_input_feature = square_input_feature.sum()\n",
    "    \n",
    "    # use the formula for the slope\n",
    "    slope = (sum_prod_input_output - sum_input_feature * sum_output / N) / (sum_square_input_feature - sum_input_feature * sum_input_feature / N)\n",
    "    \n",
    "    # use the formula for the intercept\n",
    "    intercept = sum_output / N - slope * sum_input_feature / N\n",
    "    \n",
    "    return (intercept, slope)"
   ]
  },
  {
   "cell_type": "markdown",
   "metadata": {},
   "source": [
    "We can test that our function works by passing it something where we know the answer. In particular we can generate a feature and then put the output exactly on a line: output = 1 + 1\\*input_feature then we know both our slope and intercept should be 1"
   ]
  },
  {
   "cell_type": "code",
   "execution_count": 8,
   "metadata": {
    "collapsed": false
   },
   "outputs": [
    {
     "name": "stdout",
     "output_type": "stream",
     "text": [
      "Intercept: 1.0\n",
      "Slope: 1.0\n"
     ]
    }
   ],
   "source": [
    "test_input = np.arange(0,5)\n",
    "test_output = 1 + 1.0 * test_input\n",
    "test_output\n",
    "test_intercept, test_slope = simple_linear_regression(test_input,test_output)\n",
    "print(\"Intercept: {}\".format(test_intercept))\n",
    "print(\"Slope: {}\".format(test_slope))"
   ]
  },
  {
   "cell_type": "markdown",
   "metadata": {},
   "source": [
    "Now that we know it works let's build a regression model for predicting price based on sqft_living. Rembember that we train on train_data!"
   ]
  },
  {
   "cell_type": "code",
   "execution_count": 9,
   "metadata": {
    "collapsed": false
   },
   "outputs": [
    {
     "name": "stdout",
     "output_type": "stream",
     "text": [
      "Intercept: -47116.07907289418\n",
      "Slope: 281.9588396303426\n"
     ]
    }
   ],
   "source": [
    "sqft_intercept, sqft_slope = simple_linear_regression(train_data['sqft_living'], train_data['price'])\n",
    "\n",
    "print(\"Intercept: {}\".format(sqft_intercept))\n",
    "print(\"Slope: {}\".format(sqft_slope))"
   ]
  },
  {
   "cell_type": "markdown",
   "metadata": {},
   "source": [
    "# Predicting Values"
   ]
  },
  {
   "cell_type": "markdown",
   "metadata": {},
   "source": [
    "Now that we have the model parameters intercept and slope, we can make predictions.  Compute the following function to return the predicted output given the input_feature, slope, and intercept:"
   ]
  },
  {
   "cell_type": "code",
   "execution_count": 10,
   "metadata": {
    "collapsed": true
   },
   "outputs": [],
   "source": [
    "def get_regression_predictions(input_feature, intercept, slope):\n",
    "    # calculate the predicted values:\n",
    "    predicted_values = intercept + slope * input_feature\n",
    "    \n",
    "    return predicted_values"
   ]
  },
  {
   "cell_type": "markdown",
   "metadata": {},
   "source": [
    "Now that we can calculate a prediction given the slope and intercept, let's make a prediction.  Estimate the price for a house with 2650 sqft according to the sqft model above.\n",
    "\n",
    "**Quiz Question: Using your Slope and Intercept from (4), What is the predicted price for a house with 2650 sqft?**"
   ]
  },
  {
   "cell_type": "code",
   "execution_count": 11,
   "metadata": {
    "collapsed": false
   },
   "outputs": [
    {
     "name": "stdout",
     "output_type": "stream",
     "text": [
      "The estimated price for a house with 2650 sqft is $700074.85\n"
     ]
    }
   ],
   "source": [
    "my_house_sqft = 2650\n",
    "estimated_price = get_regression_predictions(my_house_sqft, sqft_intercept, sqft_slope)\n",
    "print(\"The estimated price for a house with {} sqft is ${:.2f}\".format(my_house_sqft, estimated_price))"
   ]
  },
  {
   "cell_type": "markdown",
   "metadata": {},
   "source": [
    "# Residual Sum of Squares\n",
    "\n",
    "Now that we have a model that can make predictions let's evaluate our model using Residual Sum of Squares (RSS).  Recall that RSS is the sum of the squares of the residuals and the residuals is just a fancy word for the difference between predicted output and true output."
   ]
  },
  {
   "cell_type": "code",
   "execution_count": 12,
   "metadata": {
    "collapsed": true
   },
   "outputs": [],
   "source": [
    "def get_residual_sum_of_squares(input_feature, output, intercept, slope):\n",
    "    # First get the predictions\n",
    "    predictions = get_regression_predictions(input_feature, intercept, slope)\n",
    "    \n",
    "    # The compute the residuals\n",
    "    residuals = predictions - output\n",
    "    \n",
    "    # Then square the residuals and add them up\n",
    "    RSS = (residuals * residuals).sum()\n",
    "    \n",
    "    return RSS"
   ]
  },
  {
   "cell_type": "markdown",
   "metadata": {},
   "source": [
    "Let's test our get_residual_sum_of_squares function by applying it to the test model where the data lie exactly on a line. Since they lie exactly on a line the residual sum of squares should be zero!"
   ]
  },
  {
   "cell_type": "code",
   "execution_count": 13,
   "metadata": {
    "collapsed": false
   },
   "outputs": [
    {
     "name": "stdout",
     "output_type": "stream",
     "text": [
      "0.0\n"
     ]
    }
   ],
   "source": [
    "print(get_residual_sum_of_squares(test_input, test_output, test_intercept, test_slope)) # should be 0.0"
   ]
  },
  {
   "cell_type": "markdown",
   "metadata": {},
   "source": [
    "Now use your function to calculate the RSS on training data from the squarefeet model calculated above.\n",
    "\n",
    "**Quiz Question: According to this function and the slope and intercept from the squarefeet model What is the RSS for the simple linear regression using squarefeet to predict prices on TRAINING data?**"
   ]
  },
  {
   "cell_type": "code",
   "execution_count": 14,
   "metadata": {
    "collapsed": false
   },
   "outputs": [
    {
     "name": "stdout",
     "output_type": "stream",
     "text": [
      "The RSS of predicting prices based on sqft is: 1201918354177286.2\n"
     ]
    }
   ],
   "source": [
    "rss_prices_on_sqft = get_residual_sum_of_squares(train_data['sqft_living'], train_data['price'], sqft_intercept, sqft_slope)\n",
    "print(\"The RSS of predicting prices based on sqft is: {}\".format(str(rss_prices_on_sqft)))"
   ]
  },
  {
   "cell_type": "markdown",
   "metadata": {},
   "source": [
    "# Predict sqft given prices"
   ]
  },
  {
   "cell_type": "markdown",
   "metadata": {},
   "source": [
    "What if we want to predict the squarefoot given the price?  Since we have an equation y=a+bx we can solve the function for x."
   ]
  },
  {
   "cell_type": "code",
   "execution_count": 15,
   "metadata": {
    "collapsed": true
   },
   "outputs": [],
   "source": [
    "def inverse_regression_predictions(output, intercept, slope):\n",
    "    estimated_feature = (output - intercept) / slope\n",
    "    return estimated_feature"
   ]
  },
  {
   "cell_type": "markdown",
   "metadata": {},
   "source": [
    "Now that we have a function to compute the squarefeet given the price from our simple regression model let's see how big we might expect a house that costs $800,000 to be.\n",
    "\n",
    "**Quiz Question: According to this function and the regression slope and intercept from (3) what is the estimated square-feet for a house costing $800,000?**"
   ]
  },
  {
   "cell_type": "code",
   "execution_count": 16,
   "metadata": {
    "collapsed": false
   },
   "outputs": [
    {
     "name": "stdout",
     "output_type": "stream",
     "text": [
      "The estimated sqft for a house worth 800000.00 is 3004\n"
     ]
    }
   ],
   "source": [
    "my_house_price = 800000\n",
    "estimated_sqft = inverse_regression_predictions(my_house_price, sqft_intercept, sqft_slope)\n",
    "print(\"The estimated sqft for a house worth {:.2f} is {:.0f}\".format(my_house_price, estimated_sqft))"
   ]
  },
  {
   "cell_type": "markdown",
   "metadata": {},
   "source": [
    "# New Model: estimate prices from bedrooms\n",
    "\n",
    "We have made one model for predicting house prices using sqft, but there are other features in the sales data.  Use the simple linear regression function to estimate the regression parameters from predicting prices based on number of bedrooms.  Use the training data! "
   ]
  },
  {
   "cell_type": "code",
   "execution_count": 17,
   "metadata": {
    "collapsed": false
   },
   "outputs": [
    {
     "name": "stdout",
     "output_type": "stream",
     "text": [
      "Intercept: 109473.1776229596\n",
      "Slope: 127588.95293398784\n"
     ]
    }
   ],
   "source": [
    "# Estimate the slope and intercept for predicting 'price' based on 'bedrooms'\n",
    "bdr_intercept, bdr_slope = simple_linear_regression(train_data['bedrooms'], train_data['price'])\n",
    "\n",
    "print(\"Intercept: {}\".format(bdr_intercept))\n",
    "print(\"Slope: {}\".format(bdr_slope))"
   ]
  },
  {
   "cell_type": "markdown",
   "metadata": {},
   "source": [
    "# Test your Linear Regression Algorithm\n",
    "\n",
    "Now we have two models for predicting the price of a house. How do we know which one is better? Calculate the RSS on the TEST data (remember this data wasn't involved in learning the model). Compute the RSS from predicting prices using bedrooms and from predicting prices using squarefeet.\n",
    "\n",
    "**Quiz Question: Which model (square feet or bedrooms) has lowest RSS on TEST data? Think about why this might be the case.**"
   ]
  },
  {
   "cell_type": "code",
   "execution_count": 18,
   "metadata": {
    "collapsed": false
   },
   "outputs": [
    {
     "name": "stdout",
     "output_type": "stream",
     "text": [
      "The RSS of predicting prices based on sqft with TEST data is: 493364585960301.4\n"
     ]
    }
   ],
   "source": [
    "# Compute RSS using bedroom model with TEST data:\n",
    "rss_prices_on_bdr_test = get_residual_sum_of_squares(test_data['bedrooms'], test_data['price'], bdr_intercept, bdr_slope)\n",
    "print(\"The RSS of predicting prices based on sqft with TEST data is: {}\".format(str(rss_prices_on_bdr_test)))"
   ]
  },
  {
   "cell_type": "code",
   "execution_count": 19,
   "metadata": {
    "collapsed": false
   },
   "outputs": [
    {
     "name": "stdout",
     "output_type": "stream",
     "text": [
      "The RSS of predicting prices based on sqft with TEST data is: 275402933617813.1\n"
     ]
    }
   ],
   "source": [
    "# Compute RSS using sqft model with TEST data:\n",
    "rss_prices_on_sqft_test = get_residual_sum_of_squares(test_data['sqft_living'], test_data['price'], sqft_intercept, sqft_slope)\n",
    "print(\"The RSS of predicting prices based on sqft with TEST data is: {}\".format(str(rss_prices_on_sqft_test)))"
   ]
  },
  {
   "cell_type": "markdown",
   "metadata": {},
   "source": [
    "**The sqft model performs better than the bedroom model (RSS_sqft < RSS_bdr).  This makes sense as the integer bedroom data is very coarse and likely not as strong a factor as sqft.**"
   ]
  }
 ],
 "metadata": {
  "kernelspec": {
   "display_name": "Python 3",
   "language": "python",
   "name": "python3"
  },
  "language_info": {
   "codemirror_mode": {
    "name": "ipython",
    "version": 3.0
   },
   "file_extension": ".py",
   "mimetype": "text/x-python",
   "name": "python",
   "nbconvert_exporter": "python",
   "pygments_lexer": "ipython3",
   "version": "3.5.2"
  }
 },
 "nbformat": 4,
 "nbformat_minor": 0
}